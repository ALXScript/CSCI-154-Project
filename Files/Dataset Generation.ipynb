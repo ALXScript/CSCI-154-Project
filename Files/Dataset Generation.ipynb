{
 "cells": [
  {
   "cell_type": "code",
   "execution_count": 1,
   "metadata": {
    "scrolled": true
   },
   "outputs": [],
   "source": [
    "import crater_math as cm\n",
    "import references as ref\n",
    "import pandas as pd\n",
    "import matplotlib.pyplot as plt\n",
    "import math \n",
    "\n",
    "df = pd.read_csv(\"Datasets/meteorite_data.csv\")\n",
    "\n",
    "\n",
    "ice = df.copy()\n",
    "ice['KE'] = cm.dataKinEnergy(ice['mass'], 20)\n",
    "ice = cm.dataDiameter(1.3,1.0,1.0, ice,'KE', 'crater_diameter', ref.dicProjectileDensity[\"ice\"], ref.dicTargetDensity[\"sedimentary\"])\n",
    "ice['crater_depth'] = cm.dataDepth14(ice['crater_diameter']).where(ice['crater_diameter'] <= 1400, cm.dataDepth(ice['crater_diameter']))\n",
    "ice.to_csv(\"Datasets/ice_data.csv\", index = False)\n",
    "\n",
    "porous = df.copy()\n",
    "porous['KE'] = cm.dataKinEnergy(ice['mass'], 20)\n",
    "porous = cm.dataDiameter(1.3,1.0,1.0, porous,'KE', 'crater_diameter', ref.dicProjectileDensity[\"porous\"], ref.dicTargetDensity[\"sedimentary\"])\n",
    "porous['crater_depth'] = cm.dataDepth14(porous['crater_diameter']).where(porous['crater_diameter'] <= 1400, cm.dataDepth(porous['crater_diameter']))\n",
    "porous.to_csv(\"Datasets/porous_data.csv\", index = False)\n",
    "\n",
    "dense = df.copy()\n",
    "dense['KE'] = cm.dataKinEnergy(dense['mass'], 20)\n",
    "dense = cm.dataDiameter(1.3,1.0,1.0, dense,'KE', 'crater_diameter', ref.dicProjectileDensity[\"dense\"], ref.dicTargetDensity[\"sedimentary\"])\n",
    "dense['crater_depth'] = cm.dataDepth14(dense['crater_diameter']).where(dense['crater_diameter'] <= 1400, cm.dataDepth(dense['crater_diameter']))\n",
    "dense.to_csv(\"Datasets/dense_data.csv\", index = False)\n",
    "\n",
    "iron = df.copy()\n",
    "iron['KE'] = cm.dataKinEnergy(iron['mass'], 20)\n",
    "iron = cm.dataDiameter(1.3,1.0,1.0, iron,'KE', 'crater_diameter', ref.dicProjectileDensity[\"iron\"], ref.dicTargetDensity[\"sedimentary\"])\n",
    "iron['crater_depth'] = cm.dataDepth14(iron['crater_diameter']).where(iron['crater_diameter'] <= 1400, cm.dataDepth(iron['crater_diameter']))\n",
    "iron.to_csv(\"Datasets/iron_data.csv\", index = False)\n",
    "\n"
   ]
  },
  {
   "cell_type": "code",
   "execution_count": null,
   "metadata": {},
   "outputs": [],
   "source": []
  }
 ],
 "metadata": {
  "kernelspec": {
   "display_name": "Python 2",
   "language": "python",
   "name": "python2"
  },
  "language_info": {
   "codemirror_mode": {
    "name": "ipython",
    "version": 2
   },
   "file_extension": ".py",
   "mimetype": "text/x-python",
   "name": "python",
   "nbconvert_exporter": "python",
   "pygments_lexer": "ipython2",
   "version": "2.7.15"
  }
 },
 "nbformat": 4,
 "nbformat_minor": 2
}
